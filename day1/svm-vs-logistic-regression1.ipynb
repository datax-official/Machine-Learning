{
 "cells": [
  {
   "cell_type": "markdown",
   "id": "f6dd8ae1",
   "metadata": {
    "_cell_guid": "b1076dfc-b9ad-4769-8c92-a6c4dae69d19",
    "_uuid": "8f2839f25d086af736a60e9eeb907d3b93b6e0e5",
    "execution": {
     "iopub.status.busy": "2024-03-04T15:23:52.439820Z",
     "iopub.status.idle": "2024-03-04T15:23:52.440383Z",
     "shell.execute_reply": "2024-03-04T15:23:52.440081Z",
     "shell.execute_reply.started": "2024-03-04T15:23:52.440062Z"
    },
    "papermill": {
     "duration": 0.00747,
     "end_time": "2024-03-09T14:07:32.600845",
     "exception": false,
     "start_time": "2024-03-09T14:07:32.593375",
     "status": "completed"
    },
    "tags": []
   },
   "source": [
    "# Task 1: SVM VS Logistic Regression"
   ]
  },
  {
   "cell_type": "markdown",
   "id": "5194eb20",
   "metadata": {
    "papermill": {
     "duration": 0.00656,
     "end_time": "2024-03-09T14:07:32.614810",
     "exception": false,
     "start_time": "2024-03-09T14:07:32.608250",
     "status": "completed"
    },
    "tags": []
   },
   "source": [
    "Tools: Jupyter Notebook <br>\n",
    "Take a dataset from UCI ML where you should implacement the Support Vector Machine (SVM) and also a model of your own choice make camparison btw them and explain."
   ]
  },
  {
   "cell_type": "markdown",
   "id": "c33759c5",
   "metadata": {
    "papermill": {
     "duration": 0.005999,
     "end_time": "2024-03-09T14:07:32.627235",
     "exception": false,
     "start_time": "2024-03-09T14:07:32.621236",
     "status": "completed"
    },
    "tags": []
   },
   "source": [
    "# 1. Download the Dataset"
   ]
  },
  {
   "cell_type": "code",
   "execution_count": 1,
   "id": "bbe25eee",
   "metadata": {
    "execution": {
     "iopub.execute_input": "2024-03-09T14:07:32.643013Z",
     "iopub.status.busy": "2024-03-09T14:07:32.642370Z",
     "iopub.status.idle": "2024-03-09T14:07:34.097317Z",
     "shell.execute_reply": "2024-03-09T14:07:34.095633Z"
    },
    "papermill": {
     "duration": 1.467266,
     "end_time": "2024-03-09T14:07:34.100918",
     "exception": false,
     "start_time": "2024-03-09T14:07:32.633652",
     "status": "completed"
    },
    "tags": []
   },
   "outputs": [],
   "source": [
    "import pandas as pd\n",
    "\n",
    "# Download the Breast Cancer Wisconsin (Diagnostic) Dataset from UCI ML\n",
    "url = 'https://archive.ics.uci.edu/ml/machine-learning-databases/breast-cancer-wisconsin/wdbc.data'\n",
    "column_names = ['ID', 'Diagnosis', 'Mean Radius', 'Mean Texture', 'Mean Perimeter', 'Mean Area',\n",
    "                'Mean Smoothness', 'Mean Compactness', 'Mean Concavity', 'Mean Concave Points',\n",
    "                'Mean Symmetry', 'Mean Fractal Dimension', 'SE Radius', 'SE Texture', 'SE Perimeter',\n",
    "                'SE Area', 'SE Smoothness', 'SE Compactness', 'SE Concavity', 'SE Concave Points',\n",
    "                'SE Symmetry', 'SE Fractal Dimension', 'Worst Radius', 'Worst Texture', 'Worst Perimeter',\n",
    "                'Worst Area', 'Worst Smoothness', 'Worst Compactness', 'Worst Concavity',\n",
    "                'Worst Concave Points', 'Worst Symmetry', 'Worst Fractal Dimension']\n",
    "data = pd.read_csv(url, header=None, names=column_names)"
   ]
  },
  {
   "cell_type": "code",
   "execution_count": 2,
   "id": "0477f40a",
   "metadata": {
    "execution": {
     "iopub.execute_input": "2024-03-09T14:07:34.118902Z",
     "iopub.status.busy": "2024-03-09T14:07:34.117790Z",
     "iopub.status.idle": "2024-03-09T14:07:34.166883Z",
     "shell.execute_reply": "2024-03-09T14:07:34.165294Z"
    },
    "papermill": {
     "duration": 0.061767,
     "end_time": "2024-03-09T14:07:34.169988",
     "exception": false,
     "start_time": "2024-03-09T14:07:34.108221",
     "status": "completed"
    },
    "tags": []
   },
   "outputs": [
    {
     "data": {
      "text/html": [
       "<div>\n",
       "<style scoped>\n",
       "    .dataframe tbody tr th:only-of-type {\n",
       "        vertical-align: middle;\n",
       "    }\n",
       "\n",
       "    .dataframe tbody tr th {\n",
       "        vertical-align: top;\n",
       "    }\n",
       "\n",
       "    .dataframe thead th {\n",
       "        text-align: right;\n",
       "    }\n",
       "</style>\n",
       "<table border=\"1\" class=\"dataframe\">\n",
       "  <thead>\n",
       "    <tr style=\"text-align: right;\">\n",
       "      <th></th>\n",
       "      <th>ID</th>\n",
       "      <th>Diagnosis</th>\n",
       "      <th>Mean Radius</th>\n",
       "      <th>Mean Texture</th>\n",
       "      <th>Mean Perimeter</th>\n",
       "      <th>Mean Area</th>\n",
       "      <th>Mean Smoothness</th>\n",
       "      <th>Mean Compactness</th>\n",
       "      <th>Mean Concavity</th>\n",
       "      <th>Mean Concave Points</th>\n",
       "      <th>...</th>\n",
       "      <th>Worst Radius</th>\n",
       "      <th>Worst Texture</th>\n",
       "      <th>Worst Perimeter</th>\n",
       "      <th>Worst Area</th>\n",
       "      <th>Worst Smoothness</th>\n",
       "      <th>Worst Compactness</th>\n",
       "      <th>Worst Concavity</th>\n",
       "      <th>Worst Concave Points</th>\n",
       "      <th>Worst Symmetry</th>\n",
       "      <th>Worst Fractal Dimension</th>\n",
       "    </tr>\n",
       "  </thead>\n",
       "  <tbody>\n",
       "    <tr>\n",
       "      <th>0</th>\n",
       "      <td>842302</td>\n",
       "      <td>M</td>\n",
       "      <td>17.99</td>\n",
       "      <td>10.38</td>\n",
       "      <td>122.80</td>\n",
       "      <td>1001.0</td>\n",
       "      <td>0.11840</td>\n",
       "      <td>0.27760</td>\n",
       "      <td>0.3001</td>\n",
       "      <td>0.14710</td>\n",
       "      <td>...</td>\n",
       "      <td>25.38</td>\n",
       "      <td>17.33</td>\n",
       "      <td>184.60</td>\n",
       "      <td>2019.0</td>\n",
       "      <td>0.1622</td>\n",
       "      <td>0.6656</td>\n",
       "      <td>0.7119</td>\n",
       "      <td>0.2654</td>\n",
       "      <td>0.4601</td>\n",
       "      <td>0.11890</td>\n",
       "    </tr>\n",
       "    <tr>\n",
       "      <th>1</th>\n",
       "      <td>842517</td>\n",
       "      <td>M</td>\n",
       "      <td>20.57</td>\n",
       "      <td>17.77</td>\n",
       "      <td>132.90</td>\n",
       "      <td>1326.0</td>\n",
       "      <td>0.08474</td>\n",
       "      <td>0.07864</td>\n",
       "      <td>0.0869</td>\n",
       "      <td>0.07017</td>\n",
       "      <td>...</td>\n",
       "      <td>24.99</td>\n",
       "      <td>23.41</td>\n",
       "      <td>158.80</td>\n",
       "      <td>1956.0</td>\n",
       "      <td>0.1238</td>\n",
       "      <td>0.1866</td>\n",
       "      <td>0.2416</td>\n",
       "      <td>0.1860</td>\n",
       "      <td>0.2750</td>\n",
       "      <td>0.08902</td>\n",
       "    </tr>\n",
       "    <tr>\n",
       "      <th>2</th>\n",
       "      <td>84300903</td>\n",
       "      <td>M</td>\n",
       "      <td>19.69</td>\n",
       "      <td>21.25</td>\n",
       "      <td>130.00</td>\n",
       "      <td>1203.0</td>\n",
       "      <td>0.10960</td>\n",
       "      <td>0.15990</td>\n",
       "      <td>0.1974</td>\n",
       "      <td>0.12790</td>\n",
       "      <td>...</td>\n",
       "      <td>23.57</td>\n",
       "      <td>25.53</td>\n",
       "      <td>152.50</td>\n",
       "      <td>1709.0</td>\n",
       "      <td>0.1444</td>\n",
       "      <td>0.4245</td>\n",
       "      <td>0.4504</td>\n",
       "      <td>0.2430</td>\n",
       "      <td>0.3613</td>\n",
       "      <td>0.08758</td>\n",
       "    </tr>\n",
       "    <tr>\n",
       "      <th>3</th>\n",
       "      <td>84348301</td>\n",
       "      <td>M</td>\n",
       "      <td>11.42</td>\n",
       "      <td>20.38</td>\n",
       "      <td>77.58</td>\n",
       "      <td>386.1</td>\n",
       "      <td>0.14250</td>\n",
       "      <td>0.28390</td>\n",
       "      <td>0.2414</td>\n",
       "      <td>0.10520</td>\n",
       "      <td>...</td>\n",
       "      <td>14.91</td>\n",
       "      <td>26.50</td>\n",
       "      <td>98.87</td>\n",
       "      <td>567.7</td>\n",
       "      <td>0.2098</td>\n",
       "      <td>0.8663</td>\n",
       "      <td>0.6869</td>\n",
       "      <td>0.2575</td>\n",
       "      <td>0.6638</td>\n",
       "      <td>0.17300</td>\n",
       "    </tr>\n",
       "    <tr>\n",
       "      <th>4</th>\n",
       "      <td>84358402</td>\n",
       "      <td>M</td>\n",
       "      <td>20.29</td>\n",
       "      <td>14.34</td>\n",
       "      <td>135.10</td>\n",
       "      <td>1297.0</td>\n",
       "      <td>0.10030</td>\n",
       "      <td>0.13280</td>\n",
       "      <td>0.1980</td>\n",
       "      <td>0.10430</td>\n",
       "      <td>...</td>\n",
       "      <td>22.54</td>\n",
       "      <td>16.67</td>\n",
       "      <td>152.20</td>\n",
       "      <td>1575.0</td>\n",
       "      <td>0.1374</td>\n",
       "      <td>0.2050</td>\n",
       "      <td>0.4000</td>\n",
       "      <td>0.1625</td>\n",
       "      <td>0.2364</td>\n",
       "      <td>0.07678</td>\n",
       "    </tr>\n",
       "  </tbody>\n",
       "</table>\n",
       "<p>5 rows × 32 columns</p>\n",
       "</div>"
      ],
      "text/plain": [
       "         ID Diagnosis  Mean Radius  Mean Texture  Mean Perimeter  Mean Area  \\\n",
       "0    842302         M        17.99         10.38          122.80     1001.0   \n",
       "1    842517         M        20.57         17.77          132.90     1326.0   \n",
       "2  84300903         M        19.69         21.25          130.00     1203.0   \n",
       "3  84348301         M        11.42         20.38           77.58      386.1   \n",
       "4  84358402         M        20.29         14.34          135.10     1297.0   \n",
       "\n",
       "   Mean Smoothness  Mean Compactness  Mean Concavity  Mean Concave Points  \\\n",
       "0          0.11840           0.27760          0.3001              0.14710   \n",
       "1          0.08474           0.07864          0.0869              0.07017   \n",
       "2          0.10960           0.15990          0.1974              0.12790   \n",
       "3          0.14250           0.28390          0.2414              0.10520   \n",
       "4          0.10030           0.13280          0.1980              0.10430   \n",
       "\n",
       "   ...  Worst Radius  Worst Texture  Worst Perimeter  Worst Area  \\\n",
       "0  ...         25.38          17.33           184.60      2019.0   \n",
       "1  ...         24.99          23.41           158.80      1956.0   \n",
       "2  ...         23.57          25.53           152.50      1709.0   \n",
       "3  ...         14.91          26.50            98.87       567.7   \n",
       "4  ...         22.54          16.67           152.20      1575.0   \n",
       "\n",
       "   Worst Smoothness  Worst Compactness  Worst Concavity  Worst Concave Points  \\\n",
       "0            0.1622             0.6656           0.7119                0.2654   \n",
       "1            0.1238             0.1866           0.2416                0.1860   \n",
       "2            0.1444             0.4245           0.4504                0.2430   \n",
       "3            0.2098             0.8663           0.6869                0.2575   \n",
       "4            0.1374             0.2050           0.4000                0.1625   \n",
       "\n",
       "   Worst Symmetry  Worst Fractal Dimension  \n",
       "0          0.4601                  0.11890  \n",
       "1          0.2750                  0.08902  \n",
       "2          0.3613                  0.08758  \n",
       "3          0.6638                  0.17300  \n",
       "4          0.2364                  0.07678  \n",
       "\n",
       "[5 rows x 32 columns]"
      ]
     },
     "execution_count": 2,
     "metadata": {},
     "output_type": "execute_result"
    }
   ],
   "source": [
    "# Display the first few rows of the dataset\n",
    "data.head()"
   ]
  },
  {
   "cell_type": "code",
   "execution_count": 3,
   "id": "a5dafd60",
   "metadata": {
    "execution": {
     "iopub.execute_input": "2024-03-09T14:07:34.187393Z",
     "iopub.status.busy": "2024-03-09T14:07:34.186894Z",
     "iopub.status.idle": "2024-03-09T14:07:34.195681Z",
     "shell.execute_reply": "2024-03-09T14:07:34.194159Z"
    },
    "papermill": {
     "duration": 0.022255,
     "end_time": "2024-03-09T14:07:34.200005",
     "exception": false,
     "start_time": "2024-03-09T14:07:34.177750",
     "status": "completed"
    },
    "tags": []
   },
   "outputs": [
    {
     "data": {
      "text/plain": [
       "(569, 32)"
      ]
     },
     "execution_count": 3,
     "metadata": {},
     "output_type": "execute_result"
    }
   ],
   "source": [
    "data.shape"
   ]
  },
  {
   "cell_type": "code",
   "execution_count": 4,
   "id": "4178c75b",
   "metadata": {
    "execution": {
     "iopub.execute_input": "2024-03-09T14:07:34.219235Z",
     "iopub.status.busy": "2024-03-09T14:07:34.218321Z",
     "iopub.status.idle": "2024-03-09T14:07:34.233883Z",
     "shell.execute_reply": "2024-03-09T14:07:34.232532Z"
    },
    "papermill": {
     "duration": 0.027375,
     "end_time": "2024-03-09T14:07:34.236797",
     "exception": false,
     "start_time": "2024-03-09T14:07:34.209422",
     "status": "completed"
    },
    "tags": []
   },
   "outputs": [
    {
     "data": {
      "text/plain": [
       "ID                         0\n",
       "Diagnosis                  0\n",
       "Mean Radius                0\n",
       "Mean Texture               0\n",
       "Mean Perimeter             0\n",
       "Mean Area                  0\n",
       "Mean Smoothness            0\n",
       "Mean Compactness           0\n",
       "Mean Concavity             0\n",
       "Mean Concave Points        0\n",
       "Mean Symmetry              0\n",
       "Mean Fractal Dimension     0\n",
       "SE Radius                  0\n",
       "SE Texture                 0\n",
       "SE Perimeter               0\n",
       "SE Area                    0\n",
       "SE Smoothness              0\n",
       "SE Compactness             0\n",
       "SE Concavity               0\n",
       "SE Concave Points          0\n",
       "SE Symmetry                0\n",
       "SE Fractal Dimension       0\n",
       "Worst Radius               0\n",
       "Worst Texture              0\n",
       "Worst Perimeter            0\n",
       "Worst Area                 0\n",
       "Worst Smoothness           0\n",
       "Worst Compactness          0\n",
       "Worst Concavity            0\n",
       "Worst Concave Points       0\n",
       "Worst Symmetry             0\n",
       "Worst Fractal Dimension    0\n",
       "dtype: int64"
      ]
     },
     "execution_count": 4,
     "metadata": {},
     "output_type": "execute_result"
    }
   ],
   "source": [
    "data.isnull().sum()"
   ]
  },
  {
   "cell_type": "code",
   "execution_count": 5,
   "id": "5cfece87",
   "metadata": {
    "execution": {
     "iopub.execute_input": "2024-03-09T14:07:34.256756Z",
     "iopub.status.busy": "2024-03-09T14:07:34.256182Z",
     "iopub.status.idle": "2024-03-09T14:07:34.293433Z",
     "shell.execute_reply": "2024-03-09T14:07:34.291414Z"
    },
    "papermill": {
     "duration": 0.051119,
     "end_time": "2024-03-09T14:07:34.296730",
     "exception": false,
     "start_time": "2024-03-09T14:07:34.245611",
     "status": "completed"
    },
    "tags": []
   },
   "outputs": [
    {
     "name": "stdout",
     "output_type": "stream",
     "text": [
      "<class 'pandas.core.frame.DataFrame'>\n",
      "RangeIndex: 569 entries, 0 to 568\n",
      "Data columns (total 32 columns):\n",
      " #   Column                   Non-Null Count  Dtype  \n",
      "---  ------                   --------------  -----  \n",
      " 0   ID                       569 non-null    int64  \n",
      " 1   Diagnosis                569 non-null    object \n",
      " 2   Mean Radius              569 non-null    float64\n",
      " 3   Mean Texture             569 non-null    float64\n",
      " 4   Mean Perimeter           569 non-null    float64\n",
      " 5   Mean Area                569 non-null    float64\n",
      " 6   Mean Smoothness          569 non-null    float64\n",
      " 7   Mean Compactness         569 non-null    float64\n",
      " 8   Mean Concavity           569 non-null    float64\n",
      " 9   Mean Concave Points      569 non-null    float64\n",
      " 10  Mean Symmetry            569 non-null    float64\n",
      " 11  Mean Fractal Dimension   569 non-null    float64\n",
      " 12  SE Radius                569 non-null    float64\n",
      " 13  SE Texture               569 non-null    float64\n",
      " 14  SE Perimeter             569 non-null    float64\n",
      " 15  SE Area                  569 non-null    float64\n",
      " 16  SE Smoothness            569 non-null    float64\n",
      " 17  SE Compactness           569 non-null    float64\n",
      " 18  SE Concavity             569 non-null    float64\n",
      " 19  SE Concave Points        569 non-null    float64\n",
      " 20  SE Symmetry              569 non-null    float64\n",
      " 21  SE Fractal Dimension     569 non-null    float64\n",
      " 22  Worst Radius             569 non-null    float64\n",
      " 23  Worst Texture            569 non-null    float64\n",
      " 24  Worst Perimeter          569 non-null    float64\n",
      " 25  Worst Area               569 non-null    float64\n",
      " 26  Worst Smoothness         569 non-null    float64\n",
      " 27  Worst Compactness        569 non-null    float64\n",
      " 28  Worst Concavity          569 non-null    float64\n",
      " 29  Worst Concave Points     569 non-null    float64\n",
      " 30  Worst Symmetry           569 non-null    float64\n",
      " 31  Worst Fractal Dimension  569 non-null    float64\n",
      "dtypes: float64(30), int64(1), object(1)\n",
      "memory usage: 142.4+ KB\n"
     ]
    }
   ],
   "source": [
    "data.info()"
   ]
  },
  {
   "cell_type": "markdown",
   "id": "daa65440",
   "metadata": {
    "papermill": {
     "duration": 0.006927,
     "end_time": "2024-03-09T14:07:34.311058",
     "exception": false,
     "start_time": "2024-03-09T14:07:34.304131",
     "status": "completed"
    },
    "tags": []
   },
   "source": [
    "# 2. Preprocess the Dataset"
   ]
  },
  {
   "cell_type": "code",
   "execution_count": 6,
   "id": "1c5e809c",
   "metadata": {
    "execution": {
     "iopub.execute_input": "2024-03-09T14:07:34.328147Z",
     "iopub.status.busy": "2024-03-09T14:07:34.327692Z",
     "iopub.status.idle": "2024-03-09T14:07:36.462024Z",
     "shell.execute_reply": "2024-03-09T14:07:36.460796Z"
    },
    "papermill": {
     "duration": 2.146544,
     "end_time": "2024-03-09T14:07:36.465187",
     "exception": false,
     "start_time": "2024-03-09T14:07:34.318643",
     "status": "completed"
    },
    "tags": []
   },
   "outputs": [],
   "source": [
    "from sklearn.preprocessing import LabelEncoder\n",
    "from sklearn.model_selection import train_test_split\n",
    "from sklearn.preprocessing import StandardScaler\n",
    "\n",
    "# Encode the 'Diagnosis' column (M: Malignant, B: Benign)\n",
    "label_encoder = LabelEncoder()\n",
    "data['Diagnosis'] = label_encoder.fit_transform(data['Diagnosis'])\n",
    "\n",
    "# Split the dataset into features (X) and target (y)\n",
    "X = data.drop(columns=['ID', 'Diagnosis'])\n",
    "y = data['Diagnosis']\n",
    "\n",
    "# Split the dataset into training and testing sets\n",
    "X_train, X_test, y_train, y_test = train_test_split(X, y, test_size=0.2, random_state=42)\n",
    "\n",
    "# Scale the features\n",
    "scaler = StandardScaler()\n",
    "X_train_scaled = scaler.fit_transform(X_train)\n",
    "X_test_scaled = scaler.transform(X_test)\n"
   ]
  },
  {
   "cell_type": "markdown",
   "id": "a12b680d",
   "metadata": {
    "papermill": {
     "duration": 0.00732,
     "end_time": "2024-03-09T14:07:36.481668",
     "exception": false,
     "start_time": "2024-03-09T14:07:36.474348",
     "status": "completed"
    },
    "tags": []
   },
   "source": [
    "# 3. Implement Support Vector Machine (SVM)"
   ]
  },
  {
   "cell_type": "code",
   "execution_count": 7,
   "id": "a43e72a4",
   "metadata": {
    "execution": {
     "iopub.execute_input": "2024-03-09T14:07:36.500247Z",
     "iopub.status.busy": "2024-03-09T14:07:36.499756Z",
     "iopub.status.idle": "2024-03-09T14:07:36.649071Z",
     "shell.execute_reply": "2024-03-09T14:07:36.647811Z"
    },
    "papermill": {
     "duration": 0.162163,
     "end_time": "2024-03-09T14:07:36.651786",
     "exception": false,
     "start_time": "2024-03-09T14:07:36.489623",
     "status": "completed"
    },
    "tags": []
   },
   "outputs": [
    {
     "name": "stdout",
     "output_type": "stream",
     "text": [
      "Accuracy of SVM: 0.956140350877193\n",
      "Classification Report of SVM:\n",
      "              precision    recall  f1-score   support\n",
      "\n",
      "           0       0.97      0.96      0.96        71\n",
      "           1       0.93      0.95      0.94        43\n",
      "\n",
      "    accuracy                           0.96       114\n",
      "   macro avg       0.95      0.96      0.95       114\n",
      "weighted avg       0.96      0.96      0.96       114\n",
      "\n"
     ]
    }
   ],
   "source": [
    "from sklearn.svm import SVC\n",
    "from sklearn.metrics import accuracy_score, classification_report\n",
    "\n",
    "# Initialize and train the SVM model\n",
    "svm_model = SVC(kernel='linear')\n",
    "svm_model.fit(X_train_scaled, y_train)\n",
    "\n",
    "# Make predictions on the test set\n",
    "y_pred_svm = svm_model.predict(X_test_scaled)\n",
    "\n",
    "# Evaluate the performance of the SVM model\n",
    "accuracy_svm = accuracy_score(y_test, y_pred_svm)\n",
    "print(\"Accuracy of SVM:\", accuracy_svm)\n",
    "print(\"Classification Report of SVM:\")\n",
    "print(classification_report(y_test, y_pred_svm))\n"
   ]
  },
  {
   "cell_type": "markdown",
   "id": "78b3e1aa",
   "metadata": {
    "papermill": {
     "duration": 0.007667,
     "end_time": "2024-03-09T14:07:36.666817",
     "exception": false,
     "start_time": "2024-03-09T14:07:36.659150",
     "status": "completed"
    },
    "tags": []
   },
   "source": [
    "# 4. Implement Linear Regression Model"
   ]
  },
  {
   "cell_type": "code",
   "execution_count": 8,
   "id": "b7623fee",
   "metadata": {
    "execution": {
     "iopub.execute_input": "2024-03-09T14:07:36.684670Z",
     "iopub.status.busy": "2024-03-09T14:07:36.683918Z",
     "iopub.status.idle": "2024-03-09T14:07:36.747895Z",
     "shell.execute_reply": "2024-03-09T14:07:36.746270Z"
    },
    "papermill": {
     "duration": 0.078414,
     "end_time": "2024-03-09T14:07:36.752932",
     "exception": false,
     "start_time": "2024-03-09T14:07:36.674518",
     "status": "completed"
    },
    "tags": []
   },
   "outputs": [
    {
     "name": "stdout",
     "output_type": "stream",
     "text": [
      "Accuracy of Logistic Regression: 0.9736842105263158\n",
      "Classification Report of Logistic Regression:\n",
      "              precision    recall  f1-score   support\n",
      "\n",
      "           0       0.97      0.99      0.98        71\n",
      "           1       0.98      0.95      0.96        43\n",
      "\n",
      "    accuracy                           0.97       114\n",
      "   macro avg       0.97      0.97      0.97       114\n",
      "weighted avg       0.97      0.97      0.97       114\n",
      "\n"
     ]
    }
   ],
   "source": [
    "from sklearn.linear_model import LogisticRegression\n",
    "\n",
    "# Initialize and train the Logistic Regression model\n",
    "logreg_model = LogisticRegression()\n",
    "logreg_model.fit(X_train_scaled, y_train)\n",
    "\n",
    "# Make predictions on the test set\n",
    "y_pred_logreg = logreg_model.predict(X_test_scaled)\n",
    "\n",
    "# Evaluate the performance of the Logistic Regression model\n",
    "accuracy_logreg = accuracy_score(y_test, y_pred_logreg)\n",
    "print(\"Accuracy of Logistic Regression:\", accuracy_logreg)\n",
    "print(\"Classification Report of Logistic Regression:\")\n",
    "print(classification_report(y_test, y_pred_logreg))\n"
   ]
  },
  {
   "cell_type": "markdown",
   "id": "535f932f",
   "metadata": {
    "papermill": {
     "duration": 0.014924,
     "end_time": "2024-03-09T14:07:36.784562",
     "exception": false,
     "start_time": "2024-03-09T14:07:36.769638",
     "status": "completed"
    },
    "tags": []
   },
   "source": [
    "# 5. Compare Model Performances and Explain the Comparison"
   ]
  },
  {
   "cell_type": "code",
   "execution_count": 9,
   "id": "2737bf50",
   "metadata": {
    "execution": {
     "iopub.execute_input": "2024-03-09T14:07:36.820860Z",
     "iopub.status.busy": "2024-03-09T14:07:36.820030Z",
     "iopub.status.idle": "2024-03-09T14:07:36.833700Z",
     "shell.execute_reply": "2024-03-09T14:07:36.832145Z"
    },
    "papermill": {
     "duration": 0.038507,
     "end_time": "2024-03-09T14:07:36.839413",
     "exception": false,
     "start_time": "2024-03-09T14:07:36.800906",
     "status": "completed"
    },
    "tags": []
   },
   "outputs": [
    {
     "name": "stdout",
     "output_type": "stream",
     "text": [
      "Comparison of Model Performances:\n",
      "Accuracy of SVM: 0.956140350877193\n",
      "Accuracy of Logistic Regression: 0.9736842105263158\n",
      "\n",
      "Explanation of the Comparison:\n",
      "Both SVM and Logistic Regression models were trained and evaluated on the Breast Cancer Wisconsin dataset.\n",
      "The SVM model achieved an accuracy of 0.956140350877193 while the Logistic Regression model achieved an accuracy of 0.9736842105263158 on the test set.\n",
      "Based on the comparison results, the SVM model outperformed the Logistic Regression model in terms of accuracy.\n",
      "However, the choice between models may depend on other factors such as interpretability and computational complexity.\n"
     ]
    }
   ],
   "source": [
    "# Compare model performances\n",
    "print(\"Comparison of Model Performances:\")\n",
    "print(\"Accuracy of SVM:\", accuracy_svm)\n",
    "print(\"Accuracy of Logistic Regression:\", accuracy_logreg)\n",
    "\n",
    "# Explain the comparison\n",
    "print(\"\\nExplanation of the Comparison:\")\n",
    "print(\"Both SVM and Logistic Regression models were trained and evaluated on the Breast Cancer Wisconsin dataset.\")\n",
    "print(\"The SVM model achieved an accuracy of\", accuracy_svm, \"while the Logistic Regression model achieved an accuracy of\", accuracy_logreg, \"on the test set.\")\n",
    "print(\"Based on the comparison results, the SVM model outperformed the Logistic Regression model in terms of accuracy.\")\n",
    "print(\"However, the choice between models may depend on other factors such as interpretability and computational complexity.\")\n"
   ]
  },
  {
   "cell_type": "markdown",
   "id": "5fc21e64",
   "metadata": {
    "papermill": {
     "duration": 0.008287,
     "end_time": "2024-03-09T14:07:36.857797",
     "exception": false,
     "start_time": "2024-03-09T14:07:36.849510",
     "status": "completed"
    },
    "tags": []
   },
   "source": [
    "# 6. Barplot SVM vs Linear Regression"
   ]
  },
  {
   "cell_type": "code",
   "execution_count": 10,
   "id": "3ba67617",
   "metadata": {
    "execution": {
     "iopub.execute_input": "2024-03-09T14:07:36.876405Z",
     "iopub.status.busy": "2024-03-09T14:07:36.875720Z",
     "iopub.status.idle": "2024-03-09T14:07:37.314276Z",
     "shell.execute_reply": "2024-03-09T14:07:37.313187Z"
    },
    "papermill": {
     "duration": 0.451176,
     "end_time": "2024-03-09T14:07:37.316963",
     "exception": false,
     "start_time": "2024-03-09T14:07:36.865787",
     "status": "completed"
    },
    "tags": []
   },
   "outputs": [
    {
     "data": {
      "image/png": "[encoded data removed]",
      "text/plain": [
       "<Figure size 800x500 with 1 Axes>"
      ]
     },
     "metadata": {},
     "output_type": "display_data"
    }
   ],
   "source": [
    "# Import necessary libraries\n",
    "import matplotlib.pyplot as plt\n",
    "\n",
    "# Model names and accuracies\n",
    "model_names = ['Logistic Regression', 'Support Vector Machine']\n",
    "accuracies = [accuracy_logreg, accuracy_svm]\n",
    "\n",
    "# Create bar plot\n",
    "plt.figure(figsize=(8, 5))\n",
    "plt.bar(model_names, accuracies, color=['skyblue', 'salmon'])\n",
    "plt.xlabel('Model')\n",
    "plt.ylabel('Accuracy')\n",
    "plt.title('Comparison of Model Accuracies')\n",
    "plt.ylim(0, 1)  # Set y-axis limit to be between 0 and 1\n",
    "plt.show()\n"
   ]
  }
 ],
 "metadata": {
  "kaggle": {
   "accelerator": "none",
   "dataSources": [
    {
     "datasetId": 4531985,
     "sourceId": 7751328,
     "sourceType": "datasetVersion"
    }
   ],
   "dockerImageVersionId": 30664,
   "isGpuEnabled": false,
   "isInternetEnabled": true,
   "language": "python",
   "sourceType": "notebook"
  },
  "kernelspec": {
   "display_name": "Python 3",
   "language": "python",
   "name": "python3"
  },
  "language_info": {
   "codemirror_mode": {
    "name": "ipython",
    "version": 3
   },
   "file_extension": ".py",
   "mimetype": "text/x-python",
   "name": "python",
   "nbconvert_exporter": "python",
   "pygments_lexer": "ipython3",
   "version": "3.10.13"
  },
  "papermill": {
   "default_parameters": {},
   "duration": 9.601046,
   "end_time": "2024-03-09T14:07:38.354306",
   "environment_variables": {},
   "exception": null,
   "input_path": "__notebook__.ipynb",
   "output_path": "__notebook__.ipynb",
   "parameters": {},
   "start_time": "2024-03-09T14:07:28.753260",
   "version": "2.5.0"
  }
 },
 "nbformat": 4,
 "nbformat_minor": 5
}
